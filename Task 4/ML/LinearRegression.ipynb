{
 "cells": [
  {
   "cell_type": "markdown",
   "metadata": {},
   "source": [
    "##\n",
    " # File: LinearRegression.ipynb\n",
    " # Author: Karim Abogharbia\n",
    " # Description: This program is the heart of linear regression\n",
    " # Date: [27/8/2023]\n",
    "##"
   ]
  },
  {
   "cell_type": "code",
   "execution_count": 104,
   "metadata": {},
   "outputs": [],
   "source": [
    "# Header Files\n",
    "import numpy as np"
   ]
  },
  {
   "cell_type": "code",
   "execution_count": 105,
   "metadata": {},
   "outputs": [],
   "source": [
    "class LinearRegression:\n",
    "    # Some variables initialized\n",
    "    def __init__(self, lr=0.00001, n_iters=10000):\n",
    "        self.lr = lr\n",
    "        self.n_iters = n_iters\n",
    "        self.weights = None\n",
    "        self.bias = None\n",
    "\n",
    "    def fit(self, X, y):\n",
    "        n_samples = len(X)\n",
    "        self.weights = 0\n",
    "        self.bias = 0\n",
    "    \n",
    "    # Predictions are adjusted over N iterations\n",
    "        for _ in range(self.n_iters):\n",
    "            y_pred = (X * self.weights) + self.bias\n",
    "\n",
    "            dw = (1 / n_samples) * np.sum(X * (y_pred - y))\n",
    "\n",
    "            db = (1 / n_samples) * np.sum(y_pred - y)\n",
    "\n",
    "            self.weights = self.weights - self.lr * dw\n",
    "            self.bias = self.bias - self.lr * db\n",
    "\n",
    "# Line equation\n",
    "    def predict(self, X):\n",
    "        y_pred = (X * self.weights) + self.bias\n",
    "        return y_pred\n",
    "\n",
    "# Inverse of line equation\n",
    "    def invpredict(self, y_pred):\n",
    "        X = (y_pred - self.bias) / self.weights\n",
    "        return X"
   ]
  }
 ],
 "metadata": {
  "kernelspec": {
   "display_name": "Python 3",
   "language": "python",
   "name": "python3"
  },
  "language_info": {
   "codemirror_mode": {
    "name": "ipython",
    "version": 3
   },
   "file_extension": ".py",
   "mimetype": "text/x-python",
   "name": "python",
   "nbconvert_exporter": "python",
   "pygments_lexer": "ipython3",
   "version": "3.11.4"
  },
  "orig_nbformat": 4
 },
 "nbformat": 4,
 "nbformat_minor": 2
}
